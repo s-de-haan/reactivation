{
 "cells": [
  {
   "cell_type": "code",
   "execution_count": 5,
   "metadata": {},
   "outputs": [
    {
     "data": {
      "text/html": [
       "<style>.container { width:100% !important; }</style>"
      ],
      "text/plain": [
       "<IPython.core.display.HTML object>"
      ]
     },
     "metadata": {},
     "output_type": "display_data"
    }
   ],
   "source": [
    "import importlib\n",
    "import plot_across_mice, plot\n",
    "import plot_across_mice_subset\n",
    "from IPython.core.display import display, HTML\n",
    "display(HTML(\"<style>.container { width:100% !important; }</style>\"))"
   ]
  },
  {
   "cell_type": "code",
   "execution_count": 13,
   "metadata": {},
   "outputs": [],
   "source": [
    "mice = ['NN8', 'NN9', 'NN11']\n",
    "sample_dates = ['210312', '210428', '210626']\n",
    "all_mice = ['NN8', 'NN9', 'NN11', 'NN23', 'NN28', 'NN13', 'NN16', 'NN17']\n",
    "all_sample_dates = ['210312', '210428', '210626', '220416', '230210', '210811', '211014', '211025']"
   ]
  },
  {
   "cell_type": "code",
   "execution_count": null,
   "metadata": {},
   "outputs": [],
   "source": [
    "mouse = 'NN8'\n",
    "sample_date = '210312'\n",
    "\n",
    "plot.reactivation_cue_vector()"
   ]
  },
  {
   "cell_type": "code",
   "execution_count": 14,
   "metadata": {},
   "outputs": [
    {
     "ename": "FileNotFoundError",
     "evalue": "[Errno 2] No such file or directory: '/Users/sander/PhD/reactivation/andermann_data/NN8/data_across_days/reactivation_cue_vector.npy'",
     "output_type": "error",
     "traceback": [
      "\u001b[0;31m---------------------------------------------------------------------------\u001b[0m",
      "\u001b[0;31mFileNotFoundError\u001b[0m                         Traceback (most recent call last)",
      "Cell \u001b[0;32mIn[14], line 41\u001b[0m\n\u001b[1;32m      1\u001b[0m importlib\u001b[38;5;241m.\u001b[39mreload(plot_across_mice)\n\u001b[1;32m      2\u001b[0m \u001b[38;5;66;03m# # # plot reactivation classification shuffle\u001b[39;00m\n\u001b[1;32m      3\u001b[0m \u001b[38;5;66;03m# # plot_across_mice.p_distribution_shuffle(all_mice, all_sample_dates)\u001b[39;00m\n\u001b[1;32m      4\u001b[0m \u001b[38;5;66;03m# plot reactivation rate day\u001b[39;00m\n\u001b[0;32m   (...)\u001b[0m\n\u001b[1;32m     39\u001b[0m \u001b[38;5;66;03m# plot_across_mice.reactivation_cue_scale(mice, sample_dates)\u001b[39;00m\n\u001b[1;32m     40\u001b[0m \u001b[38;5;66;03m# # plot reactivation cue vector\u001b[39;00m\n\u001b[0;32m---> 41\u001b[0m \u001b[43mplot_across_mice\u001b[49m\u001b[38;5;241;43m.\u001b[39;49m\u001b[43mreactivation_cue_vector\u001b[49m\u001b[43m(\u001b[49m\u001b[43mmice\u001b[49m\u001b[43m,\u001b[49m\u001b[43m \u001b[49m\u001b[43msample_dates\u001b[49m\u001b[43m)\u001b[49m\n\u001b[1;32m     42\u001b[0m \u001b[38;5;66;03m# # plot reactivation cue vector evolve\u001b[39;00m\n\u001b[1;32m     43\u001b[0m \u001b[38;5;66;03m# plot_across_mice.reactivation_cue_vector_evolve(mice, sample_dates)\u001b[39;00m\n\u001b[1;32m     44\u001b[0m \u001b[38;5;66;03m# # plot activity across trials evolve\u001b[39;00m\n\u001b[0;32m   (...)\u001b[0m\n\u001b[1;32m    116\u001b[0m \u001b[38;5;66;03m# # plot selectivity grouped\u001b[39;00m\n\u001b[1;32m    117\u001b[0m \u001b[38;5;66;03m# plot_across_mice.num_selective_grouped(all_mice, all_sample_dates)\u001b[39;00m\n",
      "File \u001b[0;32m~/PhD/reactivation/Reactivation/normal/plot_across_mice.py:2774\u001b[0m, in \u001b[0;36mreactivation_cue_vector\u001b[0;34m(mice, sample_dates)\u001b[0m\n\u001b[1;32m   2771\u001b[0m x_label \u001b[38;5;241m=\u001b[39m \u001b[38;5;28mlist\u001b[39m(\u001b[38;5;28mrange\u001b[39m(\u001b[38;5;241m0\u001b[39m, \u001b[38;5;241m60\u001b[39m))\n\u001b[1;32m   2773\u001b[0m paths \u001b[38;5;241m=\u001b[39m preprocess\u001b[38;5;241m.\u001b[39mcreate_folders(mice[\u001b[38;5;241m0\u001b[39m], sample_dates[\u001b[38;5;241m0\u001b[39m])\n\u001b[0;32m-> 2774\u001b[0m reactivation_cue_pca_vec \u001b[38;5;241m=\u001b[39m \u001b[43mnp\u001b[49m\u001b[38;5;241;43m.\u001b[39;49m\u001b[43mload\u001b[49m\u001b[43m(\u001b[49m\u001b[43mpaths\u001b[49m\u001b[43m[\u001b[49m\u001b[38;5;124;43m'\u001b[39;49m\u001b[38;5;124;43mbase_path\u001b[39;49m\u001b[38;5;124;43m'\u001b[39;49m\u001b[43m]\u001b[49m\u001b[43m \u001b[49m\u001b[38;5;241;43m+\u001b[39;49m\u001b[43m \u001b[49m\u001b[43mpaths\u001b[49m\u001b[43m[\u001b[49m\u001b[38;5;124;43m'\u001b[39;49m\u001b[38;5;124;43mmouse\u001b[39;49m\u001b[38;5;124;43m'\u001b[39;49m\u001b[43m]\u001b[49m\u001b[43m \u001b[49m\u001b[38;5;241;43m+\u001b[39;49m\n\u001b[1;32m   2775\u001b[0m \u001b[43m                                \u001b[49m\u001b[38;5;124;43m'\u001b[39;49m\u001b[38;5;124;43m/data_across_days/reactivation_cue_vector.npy\u001b[39;49m\u001b[38;5;124;43m'\u001b[39;49m\u001b[43m,\u001b[49m\u001b[43m \u001b[49m\u001b[43mallow_pickle\u001b[49m\u001b[38;5;241;43m=\u001b[39;49m\u001b[38;5;28;43;01mTrue\u001b[39;49;00m\u001b[43m)\u001b[49m\n\u001b[1;32m   2776\u001b[0m all_s1 \u001b[38;5;241m=\u001b[39m np\u001b[38;5;241m.\u001b[39mzeros((\u001b[38;5;28mlen\u001b[39m(mice), \u001b[38;5;28mlen\u001b[39m(reactivation_cue_pca_vec[\u001b[38;5;241m0\u001b[39m][\u001b[38;5;241m0\u001b[39m])))\n\u001b[1;32m   2777\u001b[0m all_s1r \u001b[38;5;241m=\u001b[39m np\u001b[38;5;241m.\u001b[39mzeros((\u001b[38;5;28mlen\u001b[39m(mice), \u001b[38;5;28mlen\u001b[39m(reactivation_cue_pca_vec[\u001b[38;5;241m0\u001b[39m][\u001b[38;5;241m0\u001b[39m])))\n",
      "File \u001b[0;32m/opt/homebrew/anaconda3/envs/dev/lib/python3.11/site-packages/numpy/lib/npyio.py:427\u001b[0m, in \u001b[0;36mload\u001b[0;34m(file, mmap_mode, allow_pickle, fix_imports, encoding, max_header_size)\u001b[0m\n\u001b[1;32m    425\u001b[0m     own_fid \u001b[38;5;241m=\u001b[39m \u001b[38;5;28;01mFalse\u001b[39;00m\n\u001b[1;32m    426\u001b[0m \u001b[38;5;28;01melse\u001b[39;00m:\n\u001b[0;32m--> 427\u001b[0m     fid \u001b[38;5;241m=\u001b[39m stack\u001b[38;5;241m.\u001b[39menter_context(\u001b[38;5;28mopen\u001b[39m(os_fspath(file), \u001b[38;5;124m\"\u001b[39m\u001b[38;5;124mrb\u001b[39m\u001b[38;5;124m\"\u001b[39m))\n\u001b[1;32m    428\u001b[0m     own_fid \u001b[38;5;241m=\u001b[39m \u001b[38;5;28;01mTrue\u001b[39;00m\n\u001b[1;32m    430\u001b[0m \u001b[38;5;66;03m# Code to distinguish from NumPy binary files and pickles.\u001b[39;00m\n",
      "\u001b[0;31mFileNotFoundError\u001b[0m: [Errno 2] No such file or directory: '/Users/sander/PhD/reactivation/andermann_data/NN8/data_across_days/reactivation_cue_vector.npy'"
     ]
    },
    {
     "data": {
      "text/plain": [
       "<Figure size 900x600 with 0 Axes>"
      ]
     },
     "metadata": {},
     "output_type": "display_data"
    }
   ],
   "source": [
    "importlib.reload(plot_across_mice)\n",
    "# # # plot reactivation classification shuffle\n",
    "# # plot_across_mice.p_distribution_shuffle(all_mice, all_sample_dates)\n",
    "# plot reactivation rate day\n",
    "# plot_across_mice.reactivation_rate_day(mice, sample_dates)\n",
    "# # plot reactivation bias day\n",
    "# plot_across_mice.reactivation_bias_day(mice, sample_dates)\n",
    "# # plot reactivation rate trial\n",
    "# plot_across_mice.reactivation_rate_trial(mice, sample_dates)\n",
    "# # plot reactivation bias trial\n",
    "# plot_across_mice.reactivation_bias_trial(mice, sample_dates)\n",
    "# # plot reactivation physical\n",
    "# plot_across_mice.reactivation_physical(all_mice, all_sample_dates)\n",
    "# # plot trial history modulation\n",
    "# plot_across_mice.trial_history(1, mice, sample_dates)\n",
    "# # plot reactivation duration\n",
    "# plot_across_mice.reactivation_duration(mice, sample_dates)\n",
    "# # plot pupil across session\n",
    "# plot_across_mice.pupil_across_trials(mice, sample_dates)\n",
    "# # plot pupil within trial\n",
    "# plot_across_mice.pupil_within_trial(mice, sample_dates)\n",
    "# # plot iti activity across session\n",
    "# plot_across_mice.iti_activity_across_trials(all_mice, all_sample_dates)\n",
    "# # plot iti activity within trial\n",
    "# plot_across_mice.iti_activity_within_trial(all_mice, all_sample_dates)\n",
    "# # plot top vs bottom cells activity during reactivation\n",
    "# plot_across_mice.reactivation_top_bottom_activity(mice, sample_dates)\n",
    "# # plot activity across trials\n",
    "# plot_across_mice.activity_across_trials(mice, sample_dates)\n",
    "# # plot activity across trials grouped\n",
    "# plot_across_mice.activity_across_trials_grouped(all_mice, all_sample_dates)\n",
    "# # plot activity across trials grouped in/decrease\n",
    "# plot_across_mice.activity_across_trials_grouped_separate(all_mice, all_sample_dates)\n",
    "# # plot activity correlation with reactivation\n",
    "# plot_across_mice.activity_reactivation_correlation(mice, sample_dates)\n",
    "# # plot reactivation spatial regions\n",
    "# plot_across_mice.reactivation_spatial(mice, sample_dates)\n",
    "# # plot reactivation cue scale\n",
    "# plot_across_mice.reactivation_cue_scale(mice, sample_dates)\n",
    "# # plot reactivation cue vector\n",
    "plot_across_mice.reactivation_cue_vector(mice, sample_dates)\n",
    "# # plot reactivation cue vector evolve\n",
    "# plot_across_mice.reactivation_cue_vector_evolve(mice, sample_dates)\n",
    "# # plot activity across trials evolve\n",
    "# plot_across_mice.activity_across_trials_evolve(mice, sample_dates)\n",
    "# # plot activity across trials evolve grouped\n",
    "# plot_across_mice.activity_across_trials_evolve_grouped(mice, sample_dates)\n",
    "# # plot activity across trials evolve grouped in/decrease\n",
    "# plot_across_mice.activity_across_trials_evolve_grouped_decrease(mice, sample_dates)\n",
    "# # plot evolve and real cross correlation\n",
    "# plot_across_mice.reactivation_cue_vector_cross_evolve(mice, sample_dates)\n",
    "# # plot reactivation cue vector evolve parametric\n",
    "# plot_across_mice.reactivation_cue_vector_evolve_parametric(mice, sample_dates)\n",
    "# # reactivation pattern\n",
    "# plot_across_mice.reactivation_cue_pattern_difference(mice, sample_dates)\n",
    "# # reactivation influence \n",
    "# plot_across_mice.reactivation_cue_difference(mice, sample_dates)\n",
    "# # grouped count\n",
    "# plot_across_mice.grouped_count(mice, sample_dates)\n",
    "# # neuron count R2\n",
    "# plot_across_mice.neuron_count_R2(all_mice, all_sample_dates)\n",
    "# # neuron dist R3\n",
    "# plot_across_mice.neuron_overlap_dist_R3(all_mice, all_sample_dates)\n",
    "# # cue reactivation layer\n",
    "# plot_across_mice.reactivation_layer_R1(all_mice, all_sample_dates)\n",
    "# # plot reactivation rate for syn vs iti period\n",
    "# plot_across_mice.reactivation_syn_iti_R2(all_mice, all_sample_dates)\n",
    "# # top stable\n",
    "# plot_across_mice.top_activity_stable_R3(all_mice, all_sample_dates)\n",
    "# # plot pupil and brain motion across trials\n",
    "# plot_across_mice.behavior_across_trials_R2(all_mice, all_sample_dates)\n",
    "# # compare rate vs opto\n",
    "# plot_across_mice.reactivation_rate_day_comparison_R1(all_mice, all_sample_dates)\n",
    "# # plot across day correlation\n",
    "# plot_across_mice.activity_across_trials_across_days_R1(mice, sample_dates)\n",
    "# # reactivation spatial drift\n",
    "# plot_across_mice.reactivation_spatial_drift(all_mice, all_sample_dates)\n",
    "# # activity across trials layer\n",
    "# plot_across_mice.activity_across_trials_layer(all_mice, all_sample_dates)\n",
    "# # number of grouped neurons\n",
    "# plot_across_mice.neuron_count_grouped_R2(all_mice, all_sample_dates)\n",
    "# # activity across trials grouped omit\n",
    "# plot_across_mice.activity_across_trials_grouped_omit(all_mice, all_sample_dates)\n",
    "# # plot baseline activity grouped\n",
    "# plot_across_mice.activity_across_trials_grouped_baseline_R3(all_mice, all_sample_dates)\n",
    "# # grouped neuron count layer\n",
    "# plot_across_mice.neuron_count_grouped_layer_R3(all_mice, all_sample_dates)\n",
    "# # grouped neuron count region\n",
    "# plot_across_mice.reactivation_spatial_grouped(all_mice, all_sample_dates)\n",
    "# # noise correlation grouped\n",
    "# plot_across_mice.noise_grouped_R3(all_mice, all_sample_dates)\n",
    "# # plot novelty neurons\n",
    "# plot_across_mice.activity_across_trials_grouped_decrease_novelty_R1(all_mice, all_sample_dates)\n",
    "# # plot without novelty neurons activity across trials\n",
    "# plot_across_mice.activity_across_trials_novelty_R1(all_mice, all_sample_dates)\n",
    "# # plot face tracking\n",
    "# plot_across_mice.face_track_R1(mice, sample_dates)\n",
    "# # plot vector projection without novelty neurons\n",
    "# plot_across_mice.reactivation_cue_vector_novelty_R1(all_mice, all_sample_dates)\n",
    "# # plot vector layer\n",
    "# plot_across_mice.reactivation_cue_vector_layer_R1(all_mice, all_sample_dates)\n",
    "# # plot other synchronous events \n",
    "# plot_across_mice.prior_R1(all_mice, all_sample_dates)\n",
    "# # plot correlation on even vs. odd days\n",
    "# plot_across_mice.activity_across_trials_oddeven_R2R3(all_mice, all_sample_dates)\n",
    "# # plot correlation on even vs. odd days\n",
    "# plot_across_mice.reactivation_cue_vector_oddeven_R2R3(all_mice, all_sample_dates)\n",
    "# # plot ripples\n",
    "# plot_across_mice.ripples(mice, sample_dates)\n",
    "# # plot pupil activity modulation on rates\n",
    "# plot_across_mice.pupil_acitity_reactivation_modulation(all_mice, all_sample_dates)\n",
    "# # how many cells across days\n",
    "# plot_across_mice.quantify_num_across_days(mice, sample_dates)\n",
    "# # plot reactivation difference tuned flip\n",
    "# plot_across_mice.reactivation_difference_tunedflip_R2(all_mice, all_sample_dates)\n",
    "# # plot selectivity grouped\n",
    "# plot_across_mice.num_selective_grouped(all_mice, all_sample_dates)"
   ]
  },
  {
   "cell_type": "code",
   "execution_count": 12,
   "metadata": {},
   "outputs": [
    {
     "ename": "FileNotFoundError",
     "evalue": "[Errno 2] No such file or directory: '/Users/sander/PhD/reactivation/andermann_data/NN8/data_across_days/y_pred_bias_binned_subset_1.npy'",
     "output_type": "error",
     "traceback": [
      "\u001b[0;31m---------------------------------------------------------------------------\u001b[0m",
      "\u001b[0;31mFileNotFoundError\u001b[0m                         Traceback (most recent call last)",
      "Cell \u001b[0;32mIn[12], line 3\u001b[0m\n\u001b[1;32m      1\u001b[0m importlib\u001b[38;5;241m.\u001b[39mreload(plot_across_mice_subset)\n\u001b[1;32m      2\u001b[0m \u001b[38;5;66;03m# plot reactivation bias day subset\u001b[39;00m\n\u001b[0;32m----> 3\u001b[0m \u001b[43mplot_across_mice_subset\u001b[49m\u001b[38;5;241;43m.\u001b[39;49m\u001b[43mreactivation_bias_day\u001b[49m\u001b[43m(\u001b[49m\u001b[43mall_mice\u001b[49m\u001b[43m,\u001b[49m\u001b[43m \u001b[49m\u001b[43mall_sample_dates\u001b[49m\u001b[43m)\u001b[49m\n\u001b[1;32m      4\u001b[0m \u001b[38;5;66;03m# plot reactivation difference subset\u001b[39;00m\n\u001b[1;32m      5\u001b[0m plot_across_mice_subset\u001b[38;5;241m.\u001b[39mreactivation_difference(all_mice, all_sample_dates)\n",
      "File \u001b[0;32m~/PhD/reactivation/Reactivation/normal/plot_across_mice_subset.py:29\u001b[0m, in \u001b[0;36mreactivation_bias_day\u001b[0;34m(mice, sample_dates)\u001b[0m\n\u001b[1;32m     27\u001b[0m plt\u001b[38;5;241m.\u001b[39msubplot(\u001b[38;5;241m2\u001b[39m, \u001b[38;5;241m2\u001b[39m, \u001b[38;5;241m1\u001b[39m)\n\u001b[1;32m     28\u001b[0m paths \u001b[38;5;241m=\u001b[39m preprocess\u001b[38;5;241m.\u001b[39mcreate_folders(mice[\u001b[38;5;241m0\u001b[39m], sample_dates[\u001b[38;5;241m0\u001b[39m])\n\u001b[0;32m---> 29\u001b[0m bias_across_days \u001b[38;5;241m=\u001b[39m \u001b[43mnp\u001b[49m\u001b[38;5;241;43m.\u001b[39;49m\u001b[43mload\u001b[49m\u001b[43m(\u001b[49m\u001b[43mpaths\u001b[49m\u001b[43m[\u001b[49m\u001b[38;5;124;43m'\u001b[39;49m\u001b[38;5;124;43mbase_path\u001b[39;49m\u001b[38;5;124;43m'\u001b[39;49m\u001b[43m]\u001b[49m\u001b[43m \u001b[49m\u001b[38;5;241;43m+\u001b[39;49m\u001b[43m \u001b[49m\u001b[43mpaths\u001b[49m\u001b[43m[\u001b[49m\u001b[38;5;124;43m'\u001b[39;49m\u001b[38;5;124;43mmouse\u001b[39;49m\u001b[38;5;124;43m'\u001b[39;49m\u001b[43m]\u001b[49m\u001b[43m \u001b[49m\u001b[38;5;241;43m+\u001b[39;49m\u001b[43m \u001b[49m\u001b[38;5;124;43m'\u001b[39;49m\u001b[38;5;124;43m/data_across_days/y_pred_bias_binned_subset_\u001b[39;49m\u001b[38;5;124;43m'\u001b[39;49m\u001b[43m \u001b[49m\u001b[38;5;241;43m+\u001b[39;49m\u001b[43m \u001b[49m\u001b[38;5;28;43mstr\u001b[39;49m\u001b[43m(\u001b[49m\u001b[43msa\u001b[49m\u001b[43m)\u001b[49m\u001b[43m \u001b[49m\u001b[38;5;241;43m+\u001b[39;49m\u001b[43m \u001b[49m\u001b[38;5;124;43m'\u001b[39;49m\u001b[38;5;124;43m.npy\u001b[39;49m\u001b[38;5;124;43m'\u001b[39;49m\u001b[43m,\u001b[49m\n\u001b[1;32m     30\u001b[0m \u001b[43m                           \u001b[49m\u001b[43mallow_pickle\u001b[49m\u001b[38;5;241;43m=\u001b[39;49m\u001b[38;5;28;43;01mTrue\u001b[39;49;00m\u001b[43m)\u001b[49m\n\u001b[1;32m     31\u001b[0m bias_all \u001b[38;5;241m=\u001b[39m np\u001b[38;5;241m.\u001b[39mzeros((\u001b[38;5;28mlen\u001b[39m(mice), \u001b[38;5;28mlen\u001b[39m(bias_across_days[\u001b[38;5;241m0\u001b[39m][\u001b[38;5;241m0\u001b[39m])))\n\u001b[1;32m     32\u001b[0m bias_all_original \u001b[38;5;241m=\u001b[39m np\u001b[38;5;241m.\u001b[39mzeros((\u001b[38;5;28mlen\u001b[39m(mice), \u001b[38;5;28mlen\u001b[39m(bias_across_days[\u001b[38;5;241m0\u001b[39m][\u001b[38;5;241m0\u001b[39m])))\n",
      "File \u001b[0;32m/opt/homebrew/anaconda3/envs/dev/lib/python3.11/site-packages/numpy/lib/npyio.py:427\u001b[0m, in \u001b[0;36mload\u001b[0;34m(file, mmap_mode, allow_pickle, fix_imports, encoding, max_header_size)\u001b[0m\n\u001b[1;32m    425\u001b[0m     own_fid \u001b[38;5;241m=\u001b[39m \u001b[38;5;28;01mFalse\u001b[39;00m\n\u001b[1;32m    426\u001b[0m \u001b[38;5;28;01melse\u001b[39;00m:\n\u001b[0;32m--> 427\u001b[0m     fid \u001b[38;5;241m=\u001b[39m stack\u001b[38;5;241m.\u001b[39menter_context(\u001b[38;5;28mopen\u001b[39m(os_fspath(file), \u001b[38;5;124m\"\u001b[39m\u001b[38;5;124mrb\u001b[39m\u001b[38;5;124m\"\u001b[39m))\n\u001b[1;32m    428\u001b[0m     own_fid \u001b[38;5;241m=\u001b[39m \u001b[38;5;28;01mTrue\u001b[39;00m\n\u001b[1;32m    430\u001b[0m \u001b[38;5;66;03m# Code to distinguish from NumPy binary files and pickles.\u001b[39;00m\n",
      "\u001b[0;31mFileNotFoundError\u001b[0m: [Errno 2] No such file or directory: '/Users/sander/PhD/reactivation/andermann_data/NN8/data_across_days/y_pred_bias_binned_subset_1.npy'"
     ]
    },
    {
     "data": {
      "image/png": "[encoded data removed]",
      "text/plain": [
       "<Figure size 900x600 with 1 Axes>"
      ]
     },
     "metadata": {},
     "output_type": "display_data"
    }
   ],
   "source": [
    "importlib.reload(plot_across_mice_subset)\n",
    "# plot reactivation bias day subset\n",
    "plot_across_mice_subset.reactivation_bias_day(all_mice, all_sample_dates)\n",
    "# plot reactivation difference subset\n",
    "plot_across_mice_subset.reactivation_difference(all_mice, all_sample_dates)"
   ]
  },
  {
   "cell_type": "code",
   "execution_count": 23,
   "metadata": {},
   "outputs": [
    {
     "data": {
      "text/plain": [
       "<module 'plot_across_mice' from 'C:\\\\Users\\\\nnguyen\\\\PycharmProjects\\\\Reactivation\\\\normal\\\\plot_across_mice.py'>"
      ]
     },
     "execution_count": 23,
     "metadata": {},
     "output_type": "execute_result"
    }
   ],
   "source": [
    "importlib.reload(plot_across_mice)"
   ]
  },
  {
   "cell_type": "code",
   "execution_count": null,
   "metadata": {},
   "outputs": [],
   "source": []
  }
 ],
 "metadata": {
  "kernelspec": {
   "display_name": "dev",
   "language": "python",
   "name": "python3"
  },
  "language_info": {
   "codemirror_mode": {
    "name": "ipython",
    "version": 3
   },
   "file_extension": ".py",
   "mimetype": "text/x-python",
   "name": "python",
   "nbconvert_exporter": "python",
   "pygments_lexer": "ipython3",
   "version": "3.11.4"
  }
 },
 "nbformat": 4,
 "nbformat_minor": 2
}
